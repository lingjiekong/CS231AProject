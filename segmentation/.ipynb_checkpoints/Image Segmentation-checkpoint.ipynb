{
 "cells": [
  {
   "cell_type": "code",
   "execution_count": 68,
   "metadata": {
    "collapsed": true
   },
   "outputs": [],
   "source": [
    "import numpy as np\n",
    "import matplotlib.pyplot as plt \n",
    "from skimage import data\n",
    "from skimage import filters\n",
    "import numpy as np\n",
    "import cv2\n",
    "from matplotlib import pyplot as plt"
   ]
  },
  {
   "cell_type": "code",
   "execution_count": 73,
   "metadata": {
    "collapsed": false
   },
   "outputs": [
    {
     "data": {
      "image/png": "[encoded data removed]",
      "text/plain": [
       "<matplotlib.figure.Figure at 0x15f08630>"
      ]
     },
     "metadata": {},
     "output_type": "display_data"
    }
   ],
   "source": [
    "# load the data\n",
    "img = cv2.imread(\"rgb_10561.png\")\n",
    "file = open(\"rgb_10561.txt\", \"r\")\n",
    "one_line = file.readline()\n",
    "box_list = []\n",
    "\n",
    "# preprocess data\n",
    "while (one_line != ''):\n",
    "    if \"person\" in one_line:\n",
    "        one_line = file.readline()\n",
    "        num = one_line.split(']')[1]\n",
    "        num = num.split(',')\n",
    "        left = int(num[0])\n",
    "        right = int(num[1])\n",
    "        top = int(num[2])\n",
    "        bot = int(num[3])\n",
    "        box_list.append((left, right, top, bot))\n",
    "    else:\n",
    "        one_line = file.readline()\n",
    "\n",
    "# apply energy based seg\n",
    "mask2 = np.zeros((img.shape[0], img.shape[1]))\n",
    "for each_box in box_list:\n",
    "    mask = np.zeros(img.shape[:2],np.uint8)\n",
    "    bgdModel = np.zeros((1,65),np.float64)\n",
    "    fgdModel = np.zeros((1,65),np.float64)\n",
    "    rect = each_box\n",
    "    x = rect[0]  \n",
    "    w = rect[1] - rect[0] \n",
    "    y = rect[2]\n",
    "    h = rect[3] - rect[2]\n",
    "\n",
    "    rect = (x,y,w,h)\n",
    "    cv2.grabCut(img,mask,rect,bgdModel,fgdModel,5,cv2.GC_INIT_WITH_RECT)\n",
    "    mask2 += np.where((mask==2)|(mask==0),0,1).astype('uint8')\n",
    "\n",
    "# plot mask only\n",
    "plt.imshow(mask2)\n",
    "plt.show()\n",
    "\n",
    "# plot the original image with mask\n",
    "\n",
    "# print (mask2.shape)\n",
    "# img = img*mask2[:,:,np.newaxis]\n",
    "# plt.imshow(img),plt.colorbar(),plt.show()"
   ]
  },
  {
   "cell_type": "code",
   "execution_count": null,
   "metadata": {
    "collapsed": true
   },
   "outputs": [],
   "source": []
  }
 ],
 "metadata": {
  "anaconda-cloud": {},
  "kernelspec": {
   "display_name": "Python [default]",
   "language": "python",
   "name": "python2"
  },
  "language_info": {
   "codemirror_mode": {
    "name": "ipython",
    "version": 2
   },
   "file_extension": ".py",
   "mimetype": "text/x-python",
   "name": "python",
   "nbconvert_exporter": "python",
   "pygments_lexer": "ipython2",
   "version": "2.7.12"
  }
 },
 "nbformat": 4,
 "nbformat_minor": 1
}
